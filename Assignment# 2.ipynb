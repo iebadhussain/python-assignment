{
 "cells": [
  {
   "cell_type": "code",
   "execution_count": 1,
   "metadata": {},
   "outputs": [
    {
     "name": "stdout",
     "output_type": "stream",
     "text": [
      "*** MARKSHEET GRADING MACHINCE ***\n",
      "\n",
      "Enter Mathematics marks: 75\n",
      "Enter English marks: 69\n",
      "Enter Urdu marks: 58\n",
      "Enter Computer marks: 78\n",
      "Enter Physics marks: 85\n",
      "\n",
      "Your Percentage is:  73.0\n",
      "Grade: A\n"
     ]
    }
   ],
   "source": [
    "print (\"*** MARKSHEET GRADING MACHINCE ***\\n\")\n",
    "math = float(input (\"Enter Mathematics marks: \"))\n",
    "eng = float(input (\"Enter English marks: \"))\n",
    "urdu = float(input (\"Enter Urdu marks: \"))\n",
    "comp = float(input (\"Enter Computer marks: \"))\n",
    "phy = float(input (\"Enter Physics marks: \"))\n",
    "\n",
    "sum = math+eng+urdu+comp+phy \n",
    "percent = (sum/500)*100\n",
    "print (\"\\nYour Percentage is: \",percent)\n",
    "\n",
    "if percent>= 80:\n",
    "    print(\"Grade: A+\")\n",
    "elif percent>=70 and percent<80:\n",
    "    print (\"Grade: A\")\n",
    "elif percent>=60 and percent<70:\n",
    "    print (\"Grade: B\")\n",
    "elif percent>=50 and percent<60:\n",
    "    print (\"Grade: C\")\n",
    "elif percent>=45 and percent<45:\n",
    "    print (\"Grade: D\")\n",
    "else :\n",
    "    print (\"Fail\")"
   ]
  },
  {
   "cell_type": "code",
   "execution_count": null,
   "metadata": {},
   "outputs": [],
   "source": [
    "lst= []\n",
    "num=int(input('how many number '))\n",
    "for n in range(num):\n",
    "    number=int(input('enter number '))\n",
    "    lst.append(number)\n",
    "    print (\"sum of all element : \",sum(lst))"
   ]
  },
  {
   "cell_type": "code",
   "execution_count": 3,
   "metadata": {},
   "outputs": [
    {
     "name": "stdout",
     "output_type": "stream",
     "text": [
      "the largest number is:  100\n"
     ]
    }
   ],
   "source": [
    "nums =[22,10,88,100,55,22]\n",
    "\n",
    "print (\"the largest number is: \",max(nums))"
   ]
  },
  {
   "cell_type": "code",
   "execution_count": 4,
   "metadata": {},
   "outputs": [
    {
     "name": "stdout",
     "output_type": "stream",
     "text": [
      "4\n"
     ]
    }
   ],
   "source": [
    "Lists = [\"hello\",\"ebad\",True,9900,]\n",
    "print (len(Lists))"
   ]
  },
  {
   "cell_type": "code",
   "execution_count": 5,
   "metadata": {},
   "outputs": [
    {
     "name": "stdout",
     "output_type": "stream",
     "text": [
      "1\n",
      "1\n",
      "2\n",
      "3\n"
     ]
    }
   ],
   "source": [
    "list = [1,1,2,3,5,8,13,21,34,55,89]\n",
    "\n",
    "total = 0\n",
    "for n in range(0, len(list)): \n",
    "    if list[n] <5:\n",
    "        print (list[n])"
   ]
  },
  {
   "cell_type": "code",
   "execution_count": 6,
   "metadata": {},
   "outputs": [
    {
     "name": "stdout",
     "output_type": "stream",
     "text": [
      "enter number : 4\n",
      "the number is even\n"
     ]
    }
   ],
   "source": [
    "number=int(input(\"enter number : \"))\n",
    "if number%2==0:\n",
    "  print(\"the number is even\")\n",
    "else :\n",
    "  print(\"the number is odd\")"
   ]
  },
  {
   "cell_type": "code",
   "execution_count": null,
   "metadata": {},
   "outputs": [],
   "source": []
  }
 ],
 "metadata": {
  "kernelspec": {
   "display_name": "Python 3",
   "language": "python",
   "name": "python3"
  },
  "language_info": {
   "codemirror_mode": {
    "name": "ipython",
    "version": 3
   },
   "file_extension": ".py",
   "mimetype": "text/x-python",
   "name": "python",
   "nbconvert_exporter": "python",
   "pygments_lexer": "ipython3",
   "version": "3.7.4"
  }
 },
 "nbformat": 4,
 "nbformat_minor": 2
}
